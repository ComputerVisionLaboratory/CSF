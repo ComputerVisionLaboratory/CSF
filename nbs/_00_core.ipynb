{
 "cells": [
  {
   "cell_type": "code",
   "execution_count": null,
   "metadata": {},
   "outputs": [],
   "source": [
    "#default_exp core"
   ]
  },
  {
   "cell_type": "code",
   "execution_count": null,
   "metadata": {},
   "outputs": [],
   "source": [
    "#export\n",
    "import cv2 as cv\n",
    "import matplotlib.pyplot as plt\n",
    "import numpy as np\n",
    "from tqdm import tqdm\n",
    "\n",
    "from skimage.feature import peak_local_max"
   ]
  },
  {
   "cell_type": "code",
   "execution_count": null,
   "metadata": {},
   "outputs": [],
   "source": [
    "#export\n",
    "def expand_dim_to_3(arr):\n",
    "    if arr.ndim == 2:\n",
    "        return np.expand_dims(arr, axis=-1)\n",
    "    elif arr.ndim == 3:\n",
    "        return arr\n",
    "    else:\n",
    "        raise ValueError()"
   ]
  },
  {
   "cell_type": "code",
   "execution_count": null,
   "metadata": {},
   "outputs": [],
   "source": [
    "# export\n",
    "\n",
    "def elliptic_region(img, center, axes=None, angle=0, r=None, as_image=False, crop=False):\n",
    "    \"\"\"Returns the pixels in a elliptic region of a given image.\n",
    "    \n",
    "    Parameters:\n",
    "    - img: \n",
    "    - center:\n",
    "    - axes:\n",
    "    - angle:\n",
    "    - r:\n",
    "    - as_image\n",
    "    - crop\n",
    "    \"\"\"\n",
    "    assert axes is not None or r is not None, \"Either axes or radius must be passed\"\n",
    "    \n",
    "    cx, cy = center\n",
    "    a, b = axes if r is None else r,r\n",
    "    \n",
    "    width = img.shape[0]\n",
    "    height = img.shape[1]\n",
    "    mask = np.zeros((width, height), np.uint8) \n",
    "\n",
    "    circle_img = cv.ellipse(mask, center, axes, angle, color=(255,255,255), thickness=-1, startAngle=0, endAngle=360)\n",
    "    \n",
    "    masked_data = cv.bitwise_and(img, img, mask=circle_img)\n",
    "    if crop:\n",
    "        m = max(a,b)//2 #margin\n",
    "        masked_data = masked_data[cy-m:cy+m+1, cx-m:cx+m+1]\n",
    "        \n",
    "    masked_data = expand_dim_to_3(masked_data)\n",
    "    if as_image:\n",
    "        return masked_data\n",
    "    else:\n",
    "        pixels = masked_data[masked_data.sum(axis=2)!=0]\n",
    "#         pixels = masked_data[masked_data!=(0,0,0)]\n",
    "        return pixels \n"
   ]
  },
  {
   "cell_type": "code",
   "execution_count": null,
   "metadata": {},
   "outputs": [],
   "source": [
    "#export\n",
    "def regions(img, center, axes_in, axes_out, angle):\n",
    "    full_region = elliptic_region(img, center, axes_out, angle=angle, as_image=True)\n",
    "\n",
    "    blank_img = np.ones(full_region.shape[:2], dtype='uint8') * 255\n",
    "    mask = elliptic_region(blank_img, center=center, axes=axes_in, as_image=True, angle=angle)\n",
    "\n",
    "    outer_region = cv.bitwise_and(full_region, full_region.copy(), mask=cv.bitwise_not(mask))\n",
    "    outer_region = expand_dim_to_3(outer_region)\n",
    "    outer_region = outer_region[outer_region.sum(axis=2)!=0]\n",
    "    \n",
    "    inner_region = elliptic_region(full_region, center=center, axes=axes_in, as_image=False, angle=angle)\n",
    "    return inner_region, outer_region"
   ]
  },
  {
   "cell_type": "code",
   "execution_count": null,
   "metadata": {},
   "outputs": [],
   "source": [
    "#export\n",
    "def seperability_filter(img, axes_in, axes_out, angle):\n",
    "    height, width = img.shape[:2]\n",
    "    result = np.zeros((height, width))\n",
    "    \n",
    "    for x in tqdm(range(axes_out[0], width-axes_out[0])):\n",
    "        for y in range(axes_out[1], height-axes_out[1]):\n",
    "            \n",
    "            center = x, y\n",
    "            r1_pixels, r2_pixels = regions(img, center, axes_in, axes_out, angle)\n",
    "\n",
    "            \n",
    "#             r1_pixels = intensity_region_1(img, x, y, r_in, True)\n",
    "#             r2_pixels = intensity_region_2(img, x, y, r_in, r_out, True)\n",
    "            if r1_pixels.size==0 or r2_pixels.size==0:\n",
    "                result[y, x] = 0\n",
    "                continue\n",
    "            \n",
    "            r1_mean = r1_pixels.mean(axis=0, keepdims=True).T\n",
    "            r2_mean = r2_pixels.mean(axis=0, keepdims=True).T\n",
    "            \n",
    "            n_r1 = len(r1_pixels)\n",
    "            n_r2 = len(r2_pixels)\n",
    "            \n",
    "            n_overall = n_r1 + n_r2\n",
    "            overall_mean = r1_mean * n_r1/n_overall + r2_mean * n_r2/n_overall\n",
    "                        \n",
    "            S_B = n_overall * (r1_mean - overall_mean).dot((r1_mean - overall_mean).T) + \\\n",
    "                n_overall * (r2_mean - overall_mean).dot((r2_mean - overall_mean).T)\n",
    "            \n",
    "            S_T = np.cov(np.concatenate([r1_pixels, r2_pixels]).T)\n",
    "            if np.isnan(S_B).any() or np.isnan(S_T).any():\n",
    "                result[y, x]  = 0\n",
    "            elif S_B.size==1:\n",
    "                result[y, x]  = S_B / S_T\n",
    "            else:\n",
    "                result[y, x]  = np.trace(S_B) / np.trace(S_T)\n",
    "                \n",
    "    return result"
   ]
  },
  {
   "cell_type": "code",
   "execution_count": null,
   "metadata": {},
   "outputs": [],
   "source": []
  }
 ],
 "metadata": {
  "kernelspec": {
   "display_name": "Python 3",
   "language": "python",
   "name": "python3"
  }
 },
 "nbformat": 4,
 "nbformat_minor": 4
}
