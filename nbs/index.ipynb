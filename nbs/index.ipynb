{
 "cells": [
  {
   "cell_type": "markdown",
   "metadata": {},
   "source": [
    "# Circular Separability Filter\n",
    "> Circle detection in images using Python."
   ]
  },
  {
   "cell_type": "markdown",
   "metadata": {},
   "source": [
    "![](./sep_demo.gif)"
   ]
  },
  {
   "cell_type": "markdown",
   "metadata": {},
   "source": [
    "## Installation\n",
    "\n",
    "```bash\n",
    "pip install CSF\n",
    "```\n",
    "\n",
    "or using github\n",
    "```bash\n",
    "git clone https://github.com/ComputerVisionLaboratory/CSF\n",
    "cd CSF\n",
    "pip install .\n",
    "```\n"
   ]
  },
  {
   "cell_type": "markdown",
   "metadata": {},
   "source": [
    "## Usage"
   ]
  },
  {
   "cell_type": "markdown",
   "metadata": {},
   "source": [
    "```python\n",
    "import cv2 as cv\n",
    "import circle_finder\n",
    "\n",
    "\n",
    "img = cv.imread('/path/to/image.jpg')\n",
    "csf = circle_finder.CircularSeparabilityFilter()\n",
    "\n",
    "circles = csf.find_circles(img, num_circles=1)\n",
    "print(circles)\n",
    ">>>[[50, 50]]\n",
    "```\n",
    "\n",
    "\n",
    "See more in tutorials."
   ]
  }
 ],
 "metadata": {
  "kernelspec": {
   "display_name": "Python 3.8.10 64-bit",
   "name": "python3"
  }
 },
 "nbformat": 4,
 "nbformat_minor": 5
}
