{
 "cells": [
  {
   "cell_type": "markdown",
   "id": "27344f68",
   "metadata": {},
   "source": [
    "# Circular Separability Filter\n",
    "> Circle detection in images using Python."
   ]
  },
  {
   "cell_type": "markdown",
   "id": "d7ae234c",
   "metadata": {},
   "source": [
    "![](./sep_demo.gif)"
   ]
  },
  {
   "cell_type": "markdown",
   "id": "4da81979",
   "metadata": {},
   "source": [
    "## Installation\n",
    "\n",
    "```bash\n",
    "pip install circle_finder # doesn't work yet\n",
    "```\n",
    "\n",
    "or using github\n",
    "```bash\n",
    "git clone https://github.com/ComputerVisionLaboratory/circle_finder\n",
    "cd circle_finder\n",
    "pip install .\n",
    "```\n"
   ]
  },
  {
   "cell_type": "markdown",
   "id": "2060e2b6",
   "metadata": {},
   "source": [
    "## Usage"
   ]
  },
  {
   "cell_type": "markdown",
   "id": "8d898aaa",
   "metadata": {},
   "source": [
    "```python\n",
    "import cv2 as cv\n",
    "from circle_finder.csf import CircularSeparabilityFilter\n",
    "\n",
    "\n",
    "img = cv.imread('/path/to/image.jpg')\n",
    "csf = CircularSeparabilityFilter()\n",
    "\n",
    "circles = csf.find_circles(img, num_circles=1)\n",
    "print(circles)\n",
    ">>>[[50, 50]]\n",
    "```\n",
    "\n",
    "\n",
    "See more in [tutorials](https://computervisionlaboratory.github.io/circle_finder/Hough_Circle_Comparison.html)."
   ]
  },
  {
   "cell_type": "markdown",
   "id": "6be522d9",
   "metadata": {},
   "source": [
    "## Roadmap"
   ]
  },
  {
   "cell_type": "markdown",
   "id": "b052879c",
   "metadata": {},
   "source": [
    "### Optimize `elliptical_region()`\n",
    "\n",
    "The current implementation of `elliptical_region()` is very slow because it uses conditional indexing instead of a meshgrid approach. 20x speed increase is possible here."
   ]
  },
  {
   "cell_type": "markdown",
   "id": "68591a33",
   "metadata": {},
   "source": [
    "### Implement differential separability filter\n",
    "\n",
    "For deep learning based approach"
   ]
  },
  {
   "cell_type": "markdown",
   "id": "142c7964",
   "metadata": {},
   "source": [
    "## Release Notes"
   ]
  },
  {
   "cell_type": "markdown",
   "id": "464fb4f9",
   "metadata": {},
   "source": [
    "###  (~pre-release)\n",
    "* 2021/09/10 - Addded EllipticalSeparabilityFilter"
   ]
  }
 ],
 "metadata": {
  "kernelspec": {
   "display_name": "Python 3",
   "language": "python",
   "name": "python3"
  },
  "language_info": {
   "codemirror_mode": {
    "name": "ipython",
    "version": 3
   },
   "file_extension": ".py",
   "mimetype": "text/x-python",
   "name": "python",
   "nbconvert_exporter": "python",
   "pygments_lexer": "ipython3",
   "version": "3.8.5"
  }
 },
 "nbformat": 4,
 "nbformat_minor": 5
}
