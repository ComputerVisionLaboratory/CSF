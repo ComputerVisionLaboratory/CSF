{
 "cells": [
  {
   "cell_type": "markdown",
   "metadata": {},
   "source": [
    "# Circular Separability Filter\n",
    "> Circle detection in images using Python."
   ]
  },
  {
   "cell_type": "markdown",
   "metadata": {},
   "source": [
    "## Installation\n",
    "\n",
    "```bash\n",
    "pip install circle_finder # doesn't work yet\n",
    "```\n",
    "\n",
    "or using github\n",
    "```bash\n",
    "git clone https://github.com/ComputerVisionLaboratory/circle_finder\n",
    "cd circle_finder\n",
    "pip install -e .\n",
    "```\n"
   ]
  },
  {
   "cell_type": "markdown",
   "metadata": {},
   "source": [
    "## Documentation"
   ]
  },
  {
   "cell_type": "markdown",
   "metadata": {},
   "source": [
    "[https://computervisionlaboratory.github.io/circle_finder/](https://computervisionlaboratory.github.io/circle_finder/)"
   ]
  },
  {
   "cell_type": "markdown",
   "metadata": {},
   "source": [
    "## Usage"
   ]
  },
  {
   "cell_type": "markdown",
   "metadata": {},
   "source": [
    "```python\n",
    "import cv2 as cv\n",
    "from circle_finder.core import EllipitcalSeparabilityFilter\n",
    "\n",
    "\n",
    "img = cv.imread('/path/to/image.jpg')\n",
    "esf = EllipitcalSeparabilityFilter()\n",
    "\n",
    "circles = esf.find_circles(img, num_circles=1)\n",
    "print(circles)\n",
    ">>>[[50, 50]]\n",
    "```\n",
    "\n",
    "\n",
    "See more in [online documentation](https://computervisionlaboratory.github.io/circle_finder/)."
   ]
  },
  {
   "cell_type": "markdown",
   "metadata": {},
   "source": [
    "## Roadmap"
   ]
  },
  {
   "cell_type": "markdown",
   "metadata": {},
   "source": [
    "### Implement differential separability filter\n",
    "\n",
    "For deep learning based approach"
   ]
  },
  {
   "cell_type": "markdown",
   "metadata": {},
   "source": [
    "## Release Notes"
   ]
  },
  {
   "cell_type": "markdown",
   "metadata": {},
   "source": [
    "###  (~pre-release)\n",
    "* 2021/09/10 - Addded EllipticalSeparabilityFilter\n",
    "* 2021/09/20 - Added torch convolutions for faster filtering"
   ]
  }
 ],
 "metadata": {
  "kernelspec": {
   "display_name": "Python 3.8.10 64-bit",
   "name": "python3"
  }
 },
 "nbformat": 4,
 "nbformat_minor": 5
}
