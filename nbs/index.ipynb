{
 "cells": [
  {
   "cell_type": "markdown",
   "source": [
    "# Circular Separability Filter\n",
    "> Circle detection in images using Python."
   ],
   "metadata": {}
  },
  {
   "cell_type": "markdown",
   "source": [
    "## Installation\n",
    "\n",
    "```bash\n",
    "pip install CSF\n",
    "```\n",
    "\n",
    "or using github\n",
    "```bash\n",
    "git clone https://github.com/ComputerVisionLaboratory/CSF\n",
    "cd CSF\n",
    "pip install .\n",
    "```\n"
   ],
   "metadata": {}
  },
  {
   "cell_type": "markdown",
   "source": [],
   "metadata": {}
  }
 ],
 "metadata": {
  "kernelspec": {
   "display_name": "lightning",
   "language": "python",
   "name": "lightning"
  }
 },
 "nbformat": 4,
 "nbformat_minor": 5
}